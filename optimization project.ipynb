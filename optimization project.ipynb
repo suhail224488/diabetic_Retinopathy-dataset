{
 "cells": [
  {
   "cell_type": "code",
   "execution_count": 1,
   "id": "b365ba4a",
   "metadata": {},
   "outputs": [],
   "source": [
    "import numpy as np\n",
    "import os\n",
    "import pandas as pd\n",
    "import cv2\n",
    "from PIL import Image\n",
    "import scipy\n",
    "\n",
    "import tensorflow as tf\n",
    "from tensorflow.keras.applications import *\n",
    "from tensorflow.keras.optimizers import *\n",
    "from tensorflow.keras.losses import *\n",
    "from tensorflow.keras.layers import *\n",
    "from tensorflow.keras.models import *\n",
    "from tensorflow.keras.callbacks import *\n",
    "from tensorflow.keras.preprocessing.image import *\n",
    "from tensorflow.keras.utils import *\n",
    "from sklearn.neural_network import MLPClassifier\n",
    "# import pydot\n",
    "from sklearn.neighbors import KNeighborsClassifier\n",
    "from sklearn.metrics import *\n",
    "from sklearn.model_selection import *\n",
    "import tensorflow.keras.backend as K\n",
    "\n",
    "from tqdm import tqdm, tqdm_notebook\n",
    "from colorama import Fore\n",
    "import json\n",
    "import matplotlib.pyplot as plt\n",
    "import seaborn as sns\n",
    "from glob import glob\n",
    "from skimage.io import *\n",
    "%config Completer.use_jedi = False\n",
    "import time\n",
    "from sklearn.decomposition import PCA\n",
    "from sklearn.svm import SVC\n",
    "from sklearn.linear_model import LogisticRegression\n",
    "from sklearn.metrics import accuracy_score\n",
    "import lightgbm as lgb\n",
    "from xgboost import XGBClassifier\n",
    "from sklearn.ensemble import AdaBoostClassifier,RandomForestClassifier\n",
    "\n",
    "from sklearn.metrics import confusion_matrix\n",
    "\n",
    "import numpy as np\n",
    "import pandas as pd\n",
    "from pathlib import Path\n",
    "import os.path\n",
    "import matplotlib.pyplot as plt\n",
    "from IPython.display import Image, display, Markdown\n",
    "import matplotlib.cm as cm\n",
    "from sklearn.model_selection import train_test_split\n",
    "from sklearn.metrics import confusion_matrix\n",
    "import tensorflow as tf\n",
    "from time import perf_counter\n",
    "import seaborn as sns"
   ]
  },
  {
   "cell_type": "code",
   "execution_count": 2,
   "id": "6dee744c",
   "metadata": {},
   "outputs": [
    {
     "name": "stdout",
     "output_type": "stream",
     "text": [
      "All modules have been imported\n"
     ]
    }
   ],
   "source": [
    "def printmd(string):\n",
    "    # Print with Markdowns    \n",
    "    display(Markdown(string))\n",
    "\n",
    "print(\"All modules have been imported\")"
   ]
  },
  {
   "cell_type": "code",
   "execution_count": 23,
   "id": "83082333",
   "metadata": {},
   "outputs": [],
   "source": [
    "image_dir = Path(r\"C:\\Users\\shaik\\Downloads\\im\")\n",
    "\n",
    "# Get filepaths and labels\n",
    "filepaths = list(image_dir.glob(r'**/*.png'))\n",
    "labels = list(map(lambda x: os.path.split(os.path.split(x)[0])[1], filepaths))"
   ]
  },
  {
   "cell_type": "code",
   "execution_count": 24,
   "id": "ee7d26a2",
   "metadata": {},
   "outputs": [
    {
     "data": {
      "text/html": [
       "<div>\n",
       "<style scoped>\n",
       "    .dataframe tbody tr th:only-of-type {\n",
       "        vertical-align: middle;\n",
       "    }\n",
       "\n",
       "    .dataframe tbody tr th {\n",
       "        vertical-align: top;\n",
       "    }\n",
       "\n",
       "    .dataframe thead th {\n",
       "        text-align: right;\n",
       "    }\n",
       "</style>\n",
       "<table border=\"1\" class=\"dataframe\">\n",
       "  <thead>\n",
       "    <tr style=\"text-align: right;\">\n",
       "      <th></th>\n",
       "      <th>Filepath</th>\n",
       "      <th>Label</th>\n",
       "    </tr>\n",
       "  </thead>\n",
       "  <tbody>\n",
       "    <tr>\n",
       "      <th>0</th>\n",
       "      <td>C:\\Users\\shaik\\Downloads\\im\\Mild\\3f73c91b7e32.png</td>\n",
       "      <td>Mild</td>\n",
       "    </tr>\n",
       "    <tr>\n",
       "      <th>1</th>\n",
       "      <td>C:\\Users\\shaik\\Downloads\\im\\Moderate\\a505981d1...</td>\n",
       "      <td>Moderate</td>\n",
       "    </tr>\n",
       "    <tr>\n",
       "      <th>2</th>\n",
       "      <td>C:\\Users\\shaik\\Downloads\\im\\Severe\\7525ebb3434...</td>\n",
       "      <td>Severe</td>\n",
       "    </tr>\n",
       "    <tr>\n",
       "      <th>3</th>\n",
       "      <td>C:\\Users\\shaik\\Downloads\\im\\Moderate\\fc1b1841e...</td>\n",
       "      <td>Moderate</td>\n",
       "    </tr>\n",
       "    <tr>\n",
       "      <th>4</th>\n",
       "      <td>C:\\Users\\shaik\\Downloads\\im\\Mild\\bd269a1f0e4d.png</td>\n",
       "      <td>Mild</td>\n",
       "    </tr>\n",
       "  </tbody>\n",
       "</table>\n",
       "</div>"
      ],
      "text/plain": [
       "                                            Filepath     Label\n",
       "0  C:\\Users\\shaik\\Downloads\\im\\Mild\\3f73c91b7e32.png      Mild\n",
       "1  C:\\Users\\shaik\\Downloads\\im\\Moderate\\a505981d1...  Moderate\n",
       "2  C:\\Users\\shaik\\Downloads\\im\\Severe\\7525ebb3434...    Severe\n",
       "3  C:\\Users\\shaik\\Downloads\\im\\Moderate\\fc1b1841e...  Moderate\n",
       "4  C:\\Users\\shaik\\Downloads\\im\\Mild\\bd269a1f0e4d.png      Mild"
      ]
     },
     "execution_count": 24,
     "metadata": {},
     "output_type": "execute_result"
    }
   ],
   "source": [
    "filepaths = pd.Series(filepaths, name='Filepath').astype(str)\n",
    "labels = pd.Series(labels, name='Label')\n",
    "\n",
    "# Concatenate filepaths and labels\n",
    "image_df = pd.concat([filepaths, labels], axis=1)\n",
    "\n",
    "# Shuffle the DataFrame and reset index\n",
    "image_df = image_df.sample(frac=1).reset_index(drop = True)\n",
    "\n",
    "# Show the result\n",
    "image_df.head()"
   ]
  },
  {
   "cell_type": "code",
   "execution_count": 25,
   "id": "63882266",
   "metadata": {},
   "outputs": [],
   "source": [
    "level = []\n",
    "for i in image_df['Label']:\n",
    "    if i=='No_DR':\n",
    "        level.append(0)\n",
    "    elif i=='Mild':\n",
    "        level.append(1)\n",
    "    elif i=='Moderate':\n",
    "        level.append(2)\n",
    "    elif i=='Severe':\n",
    "        level.append(3)\n",
    "    else:\n",
    "        level.append(4)"
   ]
  },
  {
   "cell_type": "code",
   "execution_count": 26,
   "id": "1f7874ea",
   "metadata": {},
   "outputs": [
    {
     "data": {
      "text/html": [
       "<div>\n",
       "<style scoped>\n",
       "    .dataframe tbody tr th:only-of-type {\n",
       "        vertical-align: middle;\n",
       "    }\n",
       "\n",
       "    .dataframe tbody tr th {\n",
       "        vertical-align: top;\n",
       "    }\n",
       "\n",
       "    .dataframe thead th {\n",
       "        text-align: right;\n",
       "    }\n",
       "</style>\n",
       "<table border=\"1\" class=\"dataframe\">\n",
       "  <thead>\n",
       "    <tr style=\"text-align: right;\">\n",
       "      <th></th>\n",
       "      <th>Filepath</th>\n",
       "      <th>Label</th>\n",
       "      <th>Level</th>\n",
       "    </tr>\n",
       "  </thead>\n",
       "  <tbody>\n",
       "    <tr>\n",
       "      <th>0</th>\n",
       "      <td>C:\\Users\\shaik\\Downloads\\im\\Mild\\3f73c91b7e32.png</td>\n",
       "      <td>Mild</td>\n",
       "      <td>1</td>\n",
       "    </tr>\n",
       "    <tr>\n",
       "      <th>1</th>\n",
       "      <td>C:\\Users\\shaik\\Downloads\\im\\Moderate\\a505981d1...</td>\n",
       "      <td>Moderate</td>\n",
       "      <td>2</td>\n",
       "    </tr>\n",
       "    <tr>\n",
       "      <th>2</th>\n",
       "      <td>C:\\Users\\shaik\\Downloads\\im\\Severe\\7525ebb3434...</td>\n",
       "      <td>Severe</td>\n",
       "      <td>3</td>\n",
       "    </tr>\n",
       "    <tr>\n",
       "      <th>3</th>\n",
       "      <td>C:\\Users\\shaik\\Downloads\\im\\Moderate\\fc1b1841e...</td>\n",
       "      <td>Moderate</td>\n",
       "      <td>2</td>\n",
       "    </tr>\n",
       "    <tr>\n",
       "      <th>4</th>\n",
       "      <td>C:\\Users\\shaik\\Downloads\\im\\Mild\\bd269a1f0e4d.png</td>\n",
       "      <td>Mild</td>\n",
       "      <td>1</td>\n",
       "    </tr>\n",
       "  </tbody>\n",
       "</table>\n",
       "</div>"
      ],
      "text/plain": [
       "                                            Filepath     Label  Level\n",
       "0  C:\\Users\\shaik\\Downloads\\im\\Mild\\3f73c91b7e32.png      Mild      1\n",
       "1  C:\\Users\\shaik\\Downloads\\im\\Moderate\\a505981d1...  Moderate      2\n",
       "2  C:\\Users\\shaik\\Downloads\\im\\Severe\\7525ebb3434...    Severe      3\n",
       "3  C:\\Users\\shaik\\Downloads\\im\\Moderate\\fc1b1841e...  Moderate      2\n",
       "4  C:\\Users\\shaik\\Downloads\\im\\Mild\\bd269a1f0e4d.png      Mild      1"
      ]
     },
     "execution_count": 26,
     "metadata": {},
     "output_type": "execute_result"
    }
   ],
   "source": [
    "image_df['Level'] = level\n",
    "image_df.head()"
   ]
  },
  {
   "cell_type": "code",
   "execution_count": 27,
   "id": "80dde1b2",
   "metadata": {},
   "outputs": [],
   "source": [
    "X = []\n",
    "for i in image_df['Filepath']:\n",
    "    image = cv2.imread(i)\n",
    "    X.append(image)\n",
    "    \n",
    "X = np.asarray(X)\n",
    "y = image_df['Level']\n",
    "Y = np.asarray(y)"
   ]
  },
  {
   "cell_type": "code",
   "execution_count": 28,
   "id": "16fb6c1c",
   "metadata": {},
   "outputs": [
    {
     "name": "stdout",
     "output_type": "stream",
     "text": [
      "1299 390 168\n"
     ]
    }
   ],
   "source": [
    "# Y=to_categorical(Y,5)\n",
    "x_train, x_test1, y_train, y_test1 = train_test_split(X, Y, test_size=0.3, random_state=42)\n",
    "x_val, x_test, y_val, y_test = train_test_split(x_test1, y_test1, test_size=0.3, random_state=42)\n",
    "print(len(x_train),len(x_val),len(x_test))"
   ]
  },
  {
   "cell_type": "code",
   "execution_count": 42,
   "id": "b2858ced",
   "metadata": {},
   "outputs": [
    {
     "name": "stdout",
     "output_type": "stream",
     "text": [
      "Downloading data from https://storage.googleapis.com/tensorflow/keras-applications/vgg16/vgg16_weights_tf_dim_ordering_tf_kernels_notop.h5\n",
      "58889256/58889256 [==============================] - 9s 0us/step\n",
      "41/41 [==============================] - 139s 3s/step\n",
      "13/13 [==============================] - 43s 3s/step\n",
      "6/6 [==============================] - 19s 3s/step\n"
     ]
    }
   ],
   "source": [
    "base_model= VGG16(input_shape=(224,224,3), weights='imagenet', include_top=False)\n",
    "x = base_model.output\n",
    "# x = Dropout(0.5)(x)\n",
    "x = Flatten()(x)\n",
    "# x = BatchNormalization()(x)\n",
    "x = Dense(64,kernel_initializer='he_uniform')(x)\n",
    "# x = BatchNormalization()(x)\n",
    "x = Activation('relu')(x)\n",
    "# x = Dropout(0.5)(x)\n",
    "x = Dense(128,kernel_initializer='he_uniform')(x)\n",
    "# x = BatchNormalization()(x)\n",
    "x = Activation('relu')(x)\n",
    "# x = Dropout(0.5)(x)\n",
    "x = Dense(256,kernel_initializer='he_uniform')(x)\n",
    "# x = BatchNormalization()(x)\n",
    "x = Activation('relu')(x)\n",
    "# x = Dropout(0.5)(x)\n",
    "x = Dense(128,kernel_initializer='he_uniform')(x)\n",
    "# x = BatchNormalization()(x)\n",
    "x = Activation('relu')(x)\n",
    "# x = Dropout(0.5)(x)\n",
    "x = Dense(64,kernel_initializer='he_uniform')(x)\n",
    "# x = BatchNormalization()(x)\n",
    "x = Activation('relu')(x)\n",
    "# x = Dropout(0.5)(x)\n",
    "predictions = Dense(5, activation='softmax')(x)\n",
    "\n",
    "model_feat = Model(inputs=base_model.input,outputs=predictions)\n",
    "\n",
    "train_features = model_feat.predict(x_train)\n",
    "val_features=model_feat.predict(x_val)\n",
    "test_features=model_feat.predict(x_test)"
   ]
  },
  {
   "cell_type": "code",
   "execution_count": 43,
   "id": "1115cca6",
   "metadata": {},
   "outputs": [],
   "source": [
    "from sklearn.pipeline import make_pipeline\n",
    "from sklearn import pipeline\n",
    "from sklearn.pipeline import Pipeline\n",
    "names = [\n",
    "        \"K Nearest Neighbour Classifier\",\n",
    "        'SVM',\n",
    "        \"Random Forest Classifier\",\n",
    "        \"AdaBoost Classifier\"\n",
    "         ]\n",
    "classifiers = [\n",
    "    KNeighborsClassifier(n_neighbors = 5, algorithm='ball_tree', leaf_size=30),\n",
    "    SVC(),\n",
    "    RandomForestClassifier(max_depth=9,criterion = 'entropy'),\n",
    "    AdaBoostClassifier()\n",
    "        ]\n",
    "zipped_clf = zip(names,classifiers)\n",
    "def classifier_summary(pipeline, X_train, y_train, X_val, y_val,X_test,y_test):\n",
    "    sentiment_fit = pipeline.fit(X_train, y_train)\n",
    "    \n",
    "    y_pred_train= sentiment_fit.predict(X_train)\n",
    "    y_pred_val = sentiment_fit.predict(X_val)\n",
    "    y_pred_test = sentiment_fit.predict(X_test)\n",
    "    \n",
    "    train_accuracy = np.round(accuracy_score(y_train, y_pred_train),4)*100\n",
    "    train_precision = np.round(precision_score(y_train, y_pred_train, average='weighted'),4)\n",
    "    train_recall = np.round(recall_score(y_train, y_pred_train, average='weighted'),4)\n",
    "    train_F1 = np.round(f1_score(y_train, y_pred_train, average='weighted'),4)\n",
    "    train_kappa =  np.round(cohen_kappa_score(y_train, y_pred_train),4)\n",
    "    \n",
    "    \n",
    "    val_accuracy = np.round(accuracy_score(y_val, y_pred_val),4)*100\n",
    "    val_precision = np.round(precision_score(y_val, y_pred_val, average='weighted'),4)\n",
    "    val_recall = np.round(recall_score(y_val, y_pred_val, average='weighted'),4)\n",
    "    val_F1 = np.round(f1_score(y_val, y_pred_val, average='weighted'),4)\n",
    "    val_kappa =  np.round(cohen_kappa_score(y_val, y_pred_val),4)\n",
    "    \n",
    "    \n",
    "    test_accuracy = np.round(accuracy_score(y_test, y_pred_test),4)*100\n",
    "    test_precision = np.round(precision_score(y_test, y_pred_test, average='weighted'),2)\n",
    "    test_recall = np.round(recall_score(y_test, y_pred_test, average='weighted'),2)\n",
    "    test_F1 = np.round(f1_score(y_test, y_pred_test, average='weighted'),2)\n",
    "    test_kappa =  np.round(cohen_kappa_score(y_test, y_pred_test),2) \n",
    "  \n",
    "    \n",
    "    \n",
    "    print()\n",
    "    print('------------------------ Train Set Metrics------------------------')\n",
    "    print()\n",
    "    print(\"Accuracy core : {}%\".format(train_accuracy))\n",
    "    \n",
    "    print('------------------------ Validation Set Metrics------------------------')\n",
    "    print()\n",
    "    print(\"Accuracy score : {}%\".format(val_accuracy))\n",
    "   \n",
    "    print('------------------------ Test Set Metrics------------------------')\n",
    "    print(\"Accuracy score : {}%\".format(test_accuracy))\n",
    "    \n",
    "    print()\n",
    "    print(\"Accuracy score : {}%\".format(test_accuracy))\n",
    "    print(\"F1_score : {}\".format(test_F1))\n",
    "    print(\"Kappa Score : {} \".format(test_kappa))\n",
    "    print(\"Recall score: {}\".format(test_recall))\n",
    "    print(\"Precision score : {}\".format(test_precision))\n",
    "    \n",
    "    print(\"-\"*80)\n",
    "    print()\n",
    "    \n",
    "def classifier_comparator(X_train,y_train,X_val,y_val,X_test,y_test,classifier=zipped_clf): \n",
    "    result = []\n",
    "    for n,c in classifier:\n",
    "        checker_pipeline = Pipeline([('Classifier', c)])\n",
    "        print(\"------------------------------Fitting {} on input_data-------------------------------- \".format(n))\n",
    "        classifier_summary(checker_pipeline,X_train, y_train, X_val, y_val,X_test,y_test)"
   ]
  },
  {
   "cell_type": "code",
   "execution_count": 31,
   "id": "36679cce",
   "metadata": {},
   "outputs": [],
   "source": [
    "def classifier_summary(pipeline, X_train, y_train, X_val, y_val,X_test,y_test):\n",
    "    sentiment_fit = pipeline.fit(X_train, y_train)\n",
    "    \n",
    "    y_pred_train= sentiment_fit.predict(X_train)\n",
    "    y_pred_val = sentiment_fit.predict(X_val)\n",
    "    y_pred_test = sentiment_fit.predict(X_test)\n",
    "    \n",
    "    y_pred_train = [1 if x>0.5 else 0 for x in y_pred_train]\n",
    "    y_pred_val = [1 if x>0.5 else 0 for x in y_pred_val]\n",
    "    y_pred_test = [1 if x>0.5 else 0 for x in y_pred_test]\n",
    "    \n",
    "    train_accuracy = np.round(accuracy_score(y_train, y_pred_train),4)*100\n",
    "    train_precision = np.round(precision_score(y_train, y_pred_train, average='weighted'),4)\n",
    "    train_recall = np.round(recall_score(y_train, y_pred_train, average='weighted'),4)\n",
    "    train_F1 = np.round(f1_score(y_train, y_pred_train, average='weighted'),4)\n",
    "    train_kappa =  np.round(cohen_kappa_score(y_train, y_pred_train),4)\n",
    "    \n",
    "    \n",
    "    val_accuracy = np.round(accuracy_score(y_val, y_pred_val),4)*100\n",
    "    val_precision = np.round(precision_score(y_val, y_pred_val, average='weighted'),4)\n",
    "    val_recall = np.round(recall_score(y_val, y_pred_val, average='weighted'),4)\n",
    "    val_F1 = np.round(f1_score(y_val, y_pred_val, average='weighted'),4)\n",
    "    val_kappa =  np.round(cohen_kappa_score(y_val, y_pred_val),4)\n",
    "   \n",
    "    \n",
    "    test_accuracy = np.round(accuracy_score(y_test, y_pred_test),4)*100\n",
    "    test_precision = np.round(precision_score(y_test, y_pred_test, average='weighted'),2)\n",
    "    test_recall = np.round(recall_score(y_test, y_pred_test, average='weighted'),2)\n",
    "    test_F1 = np.round(f1_score(y_test, y_pred_test, average='weighted'),2)\n",
    "    test_kappa =  np.round(cohen_kappa_score(y_test, y_pred_test),2) \n",
    "  \n",
    "    \n",
    "    \n",
    "    print()\n",
    "    print('------------------------ Train Set Metrics------------------------')\n",
    "    print()\n",
    "    print(\"Accuracy core : {}%\".format(train_accuracy)) \n",
    "    \n",
    "    print('------------------------ Validation Set Metrics------------------------')\n",
    "    print()\n",
    "    print(\"Accuracy score : {}%\".format(val_accuracy))\n",
    "                          \n",
    "    print('------------------------ Test Set Metrics------------------------')\n",
    "    print()\n",
    "    print(\"Accuracy score : {}%\".format(test_accuracy))\n",
    "    print(\"F1_score : {}\".format(test_F1))\n",
    "    print(\"Kappa Score : {} \".format(test_kappa))\n",
    "    print(\"Recall score: {}\".format(test_recall))\n",
    "    print(\"Precision score : {}\".format(test_precision))\n",
    "          \n",
    "    print(\"-\"*80)\n",
    "    print()"
   ]
  },
  {
   "cell_type": "code",
   "execution_count": 44,
   "id": "45730888",
   "metadata": {},
   "outputs": [
    {
     "name": "stdout",
     "output_type": "stream",
     "text": [
      "------------------------------Fitting K Nearest Neighbour Classifier on input_data-------------------------------- \n",
      "\n",
      "------------------------ Train Set Metrics------------------------\n",
      "\n",
      "Accuracy core : 59.660000000000004%\n",
      "------------------------ Validation Set Metrics------------------------\n",
      "\n",
      "Accuracy score : 46.410000000000004%\n",
      "------------------------ Test Set Metrics------------------------\n",
      "Accuracy score : 53.56999999999999%\n",
      "\n",
      "Accuracy score : 53.56999999999999%\n",
      "F1_score : 0.49\n",
      "Kappa Score : 0.1 \n",
      "Recall score: 0.54\n",
      "Precision score : 0.48\n",
      "--------------------------------------------------------------------------------\n",
      "\n",
      "------------------------------Fitting SVM on input_data-------------------------------- \n"
     ]
    },
    {
     "name": "stderr",
     "output_type": "stream",
     "text": [
      "C:\\Users\\shaik\\anaconda3\\lib\\site-packages\\sklearn\\metrics\\_classification.py:1248: UndefinedMetricWarning: Precision is ill-defined and being set to 0.0 in labels with no predicted samples. Use `zero_division` parameter to control this behavior.\n",
      "  _warn_prf(average, modifier, msg_start, len(result))\n",
      "C:\\Users\\shaik\\anaconda3\\lib\\site-packages\\sklearn\\metrics\\_classification.py:1248: UndefinedMetricWarning: Precision is ill-defined and being set to 0.0 in labels with no predicted samples. Use `zero_division` parameter to control this behavior.\n",
      "  _warn_prf(average, modifier, msg_start, len(result))\n",
      "C:\\Users\\shaik\\anaconda3\\lib\\site-packages\\sklearn\\metrics\\_classification.py:1248: UndefinedMetricWarning: Precision is ill-defined and being set to 0.0 in labels with no predicted samples. Use `zero_division` parameter to control this behavior.\n",
      "  _warn_prf(average, modifier, msg_start, len(result))\n"
     ]
    },
    {
     "name": "stdout",
     "output_type": "stream",
     "text": [
      "\n",
      "------------------------ Train Set Metrics------------------------\n",
      "\n",
      "Accuracy core : 53.89000000000001%\n",
      "------------------------ Validation Set Metrics------------------------\n",
      "\n",
      "Accuracy score : 50.77%\n",
      "------------------------ Test Set Metrics------------------------\n",
      "Accuracy score : 60.12%\n",
      "\n",
      "Accuracy score : 60.12%\n",
      "F1_score : 0.45\n",
      "Kappa Score : 0.0 \n",
      "Recall score: 0.6\n",
      "Precision score : 0.36\n",
      "--------------------------------------------------------------------------------\n",
      "\n",
      "------------------------------Fitting Random Forest Classifier on input_data-------------------------------- \n",
      "\n",
      "------------------------ Train Set Metrics------------------------\n",
      "\n",
      "Accuracy core : 65.2%\n",
      "------------------------ Validation Set Metrics------------------------\n",
      "\n",
      "Accuracy score : 50.77%\n",
      "------------------------ Test Set Metrics------------------------\n",
      "Accuracy score : 60.709999999999994%\n",
      "\n",
      "Accuracy score : 60.709999999999994%\n",
      "F1_score : 0.5\n",
      "Kappa Score : 0.07 \n",
      "Recall score: 0.61\n",
      "Precision score : 0.57\n",
      "--------------------------------------------------------------------------------\n",
      "\n",
      "------------------------------Fitting AdaBoost Classifier on input_data-------------------------------- \n",
      "\n",
      "------------------------ Train Set Metrics------------------------\n",
      "\n",
      "Accuracy core : 54.81%\n",
      "------------------------ Validation Set Metrics------------------------\n",
      "\n",
      "Accuracy score : 50.77%\n",
      "------------------------ Test Set Metrics------------------------\n",
      "Accuracy score : 60.12%\n",
      "\n",
      "Accuracy score : 60.12%\n",
      "F1_score : 0.45\n",
      "Kappa Score : 0.01 \n",
      "Recall score: 0.6\n",
      "Precision score : 0.36\n",
      "--------------------------------------------------------------------------------\n",
      "\n"
     ]
    },
    {
     "name": "stderr",
     "output_type": "stream",
     "text": [
      "C:\\Users\\shaik\\anaconda3\\lib\\site-packages\\sklearn\\metrics\\_classification.py:1248: UndefinedMetricWarning: Precision is ill-defined and being set to 0.0 in labels with no predicted samples. Use `zero_division` parameter to control this behavior.\n",
      "  _warn_prf(average, modifier, msg_start, len(result))\n",
      "C:\\Users\\shaik\\anaconda3\\lib\\site-packages\\sklearn\\metrics\\_classification.py:1248: UndefinedMetricWarning: Precision is ill-defined and being set to 0.0 in labels with no predicted samples. Use `zero_division` parameter to control this behavior.\n",
      "  _warn_prf(average, modifier, msg_start, len(result))\n"
     ]
    }
   ],
   "source": [
    "classifier_comparator(train_features,y_train,val_features,y_val,test_features,y_test,classifier=zipped_clf)"
   ]
  },
  {
   "cell_type": "code",
   "execution_count": 45,
   "id": "75237ba1",
   "metadata": {},
   "outputs": [
    {
     "name": "stdout",
     "output_type": "stream",
     "text": [
      "Epoch 1/10\n",
      "41/41 [==============================] - 1s 7ms/step - loss: 1.4083 - accuracy: 0.5281 - val_loss: 1.3135 - val_accuracy: 0.5077\n",
      "Epoch 2/10\n",
      "41/41 [==============================] - 0s 3ms/step - loss: 1.2092 - accuracy: 0.5389 - val_loss: 1.2711 - val_accuracy: 0.5077\n",
      "Epoch 3/10\n",
      "41/41 [==============================] - 0s 3ms/step - loss: 1.1806 - accuracy: 0.5389 - val_loss: 1.2622 - val_accuracy: 0.5077\n",
      "Epoch 4/10\n",
      "41/41 [==============================] - 0s 3ms/step - loss: 1.1825 - accuracy: 0.5389 - val_loss: 1.2761 - val_accuracy: 0.5077\n",
      "Epoch 5/10\n",
      "41/41 [==============================] - 0s 3ms/step - loss: 1.1861 - accuracy: 0.5389 - val_loss: 1.2538 - val_accuracy: 0.5077\n",
      "Epoch 6/10\n",
      "41/41 [==============================] - 0s 3ms/step - loss: 1.1828 - accuracy: 0.5389 - val_loss: 1.2630 - val_accuracy: 0.5077\n",
      "Epoch 7/10\n",
      "41/41 [==============================] - 0s 3ms/step - loss: 1.1799 - accuracy: 0.5389 - val_loss: 1.2450 - val_accuracy: 0.5077\n",
      "Epoch 8/10\n",
      "41/41 [==============================] - 0s 3ms/step - loss: 1.1797 - accuracy: 0.5389 - val_loss: 1.2457 - val_accuracy: 0.5077\n",
      "Epoch 9/10\n",
      "41/41 [==============================] - 0s 3ms/step - loss: 1.1852 - accuracy: 0.5389 - val_loss: 1.2690 - val_accuracy: 0.5077\n",
      "Epoch 10/10\n",
      "41/41 [==============================] - 0s 3ms/step - loss: 1.1824 - accuracy: 0.5389 - val_loss: 1.2462 - val_accuracy: 0.5077\n",
      "41/41 [==============================] - 0s 1ms/step - loss: 1.1790 - accuracy: 0.5389\n",
      "Train_accuracy is:0.5388760566711426\n",
      "13/13 [==============================] - 0s 1ms/step - loss: 1.2462 - accuracy: 0.5077\n",
      "Validation_accuracy is := 0.5076923370361328\n",
      "6/6 [==============================] - 0s 2ms/step - loss: 1.1120 - accuracy: 0.6012\n",
      "test_accuracy is : = 0.601190447807312\n"
     ]
    }
   ],
   "source": [
    "train_y=to_categorical(y_train,5)\n",
    "val_y=to_categorical(y_val,5)\n",
    "test_y=to_categorical(y_test,5)\n",
    "dnn_model.compile(optimizer='adam',loss='categorical_crossentropy', metrics=['accuracy'])\n",
    "history = dnn_model.fit(train_features, train_y,validation_data=(val_features,val_y), epochs=10)\n",
    "loss_value , accuracy = dnn_model.evaluate(train_features, train_y)\n",
    "print('Train_accuracy is:' + str(accuracy))\n",
    "loss_value , accuracy = dnn_model.evaluate(val_features, val_y)\n",
    "print('Validation_accuracy is := ' + str(accuracy))\n",
    "loss_value , accuracy = dnn_model.evaluate(test_features, test_y)\n",
    "print('test_accuracy is : = ' + str(accuracy))"
   ]
  },
  {
   "cell_type": "code",
   "execution_count": 48,
   "id": "07661bf7",
   "metadata": {},
   "outputs": [
    {
     "data": {
      "text/plain": [
       "<sklearn.metrics._plot.confusion_matrix.ConfusionMatrixDisplay at 0x1e8435e3eb0>"
      ]
     },
     "execution_count": 48,
     "metadata": {},
     "output_type": "execute_result"
    },
    {
     "data": {
      "image/png": "[encoded data removed]",
      "text/plain": [
       "<Figure size 432x288 with 2 Axes>"
      ]
     },
     "metadata": {
      "needs_background": "light"
     },
     "output_type": "display_data"
    }
   ],
   "source": [
    "knn = KNeighborsClassifier(n_neighbors = 5, algorithm='ball_tree', leaf_size=30)\n",
    "knn.fit(train_features, y_train)\n",
    "plot_confusion_matrix(knn, test_features, y_test)"
   ]
  },
  {
   "cell_type": "code",
   "execution_count": 49,
   "id": "c7f1c62b",
   "metadata": {},
   "outputs": [
    {
     "data": {
      "text/plain": [
       "<sklearn.metrics._plot.confusion_matrix.ConfusionMatrixDisplay at 0x1e84315b8e0>"
      ]
     },
     "execution_count": 49,
     "metadata": {},
     "output_type": "execute_result"
    },
    {
     "data": {
      "image/png": "[encoded data removed]",
      "text/plain": [
       "<Figure size 432x288 with 2 Axes>"
      ]
     },
     "metadata": {
      "needs_background": "light"
     },
     "output_type": "display_data"
    }
   ],
   "source": [
    "svc = SVC()\n",
    "svc.fit(train_features, y_train)\n",
    "plot_confusion_matrix(svc, test_features, y_test)"
   ]
  },
  {
   "cell_type": "code",
   "execution_count": 50,
   "id": "0ed71544",
   "metadata": {},
   "outputs": [
    {
     "data": {
      "text/plain": [
       "<sklearn.metrics._plot.confusion_matrix.ConfusionMatrixDisplay at 0x1e8437e4760>"
      ]
     },
     "execution_count": 50,
     "metadata": {},
     "output_type": "execute_result"
    },
    {
     "data": {
      "image/png": "[encoded data removed]",
      "text/plain": [
       "<Figure size 432x288 with 2 Axes>"
      ]
     },
     "metadata": {
      "needs_background": "light"
     },
     "output_type": "display_data"
    }
   ],
   "source": [
    "rf = RandomForestClassifier()\n",
    "rf.fit(train_features, y_train)\n",
    "plot_confusion_matrix(rf, test_features, y_test)"
   ]
  },
  {
   "cell_type": "code",
   "execution_count": 51,
   "id": "9ef73f43",
   "metadata": {},
   "outputs": [
    {
     "data": {
      "text/plain": [
       "<sklearn.metrics._plot.confusion_matrix.ConfusionMatrixDisplay at 0x1e843817370>"
      ]
     },
     "execution_count": 51,
     "metadata": {},
     "output_type": "execute_result"
    },
    {
     "data": {
      "image/png": "[encoded data removed]",
      "text/plain": [
       "<Figure size 432x288 with 2 Axes>"
      ]
     },
     "metadata": {
      "needs_background": "light"
     },
     "output_type": "display_data"
    }
   ],
   "source": [
    "ada = AdaBoostClassifier()\n",
    "ada.fit(train_features, y_train)\n",
    "plot_confusion_matrix(ada, test_features, y_test)"
   ]
  },
  {
   "cell_type": "code",
   "execution_count": null,
   "id": "8570823f",
   "metadata": {},
   "outputs": [],
   "source": []
  }
 ],
 "metadata": {
  "kernelspec": {
   "display_name": "Python 3 (ipykernel)",
   "language": "python",
   "name": "python3"
  },
  "language_info": {
   "codemirror_mode": {
    "name": "ipython",
    "version": 3
   },
   "file_extension": ".py",
   "mimetype": "text/x-python",
   "name": "python",
   "nbconvert_exporter": "python",
   "pygments_lexer": "ipython3",
   "version": "3.9.7"
  }
 },
 "nbformat": 4,
 "nbformat_minor": 5
}
